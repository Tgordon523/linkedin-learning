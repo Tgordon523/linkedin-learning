{
 "metadata": {
  "language_info": {
   "codemirror_mode": {
    "name": "ipython",
    "version": 3
   },
   "file_extension": ".py",
   "mimetype": "text/x-python",
   "name": "python",
   "nbconvert_exporter": "python",
   "pygments_lexer": "ipython3",
   "version": "3.7.9-final"
  },
  "orig_nbformat": 2,
  "kernelspec": {
   "name": "python3",
   "display_name": "Python 3.7.9 64-bit",
   "metadata": {
    "interpreter": {
     "hash": "55f2aa2d19a9454b6d143cc16b312d5d5489e043389e04c68920124f0c90edc6"
    }
   }
  },
  "metadata": {
   "interpreter": {
    "hash": "0595454519cc834983a0e3c98315b0e8d006943b59b4a9f3b2da36bb9aea4abc"
   }
  }
 },
 "nbformat": 4,
 "nbformat_minor": 2,
 "cells": [
  {
   "cell_type": "code",
   "execution_count": 1,
   "metadata": {},
   "outputs": [],
   "source": [
    "### Load in libraries\n",
    "import pandas as pd \n",
    "import numpy as np\n",
    "from pathlib import Path ### base package for file management"
   ]
  },
  {
   "cell_type": "code",
   "execution_count": 35,
   "metadata": {},
   "outputs": [],
   "source": [
    "df = pd.read_csv(Path.cwd() / 'test_data.csv') ### basic csv loading"
   ]
  },
  {
   "cell_type": "code",
   "execution_count": 10,
   "metadata": {},
   "outputs": [
    {
     "output_type": "execute_result",
     "data": {
      "text/plain": [
       "Europe            int64\n",
       "United States     int64\n",
       "Canada            int64\n",
       "Product          object\n",
       "Year              int64\n",
       "Month             int64\n",
       "Day               int64\n",
       "date             object\n",
       "dtype: object"
      ]
     },
     "metadata": {},
     "execution_count": 10
    }
   ],
   "source": [
    "### Basic loading does not properly carry over the format\n",
    "df.dtypes "
   ]
  },
  {
   "cell_type": "code",
   "execution_count": 36,
   "metadata": {},
   "outputs": [],
   "source": [
    "### Parse date with specific date column. Specify dayfirst is false\n",
    "df = pd.read_csv(Path.cwd() / 'test_data.csv', parse_dates=['date'], dayfirst=False)"
   ]
  },
  {
   "cell_type": "code",
   "execution_count": 37,
   "metadata": {},
   "outputs": [
    {
     "output_type": "execute_result",
     "data": {
      "text/plain": [
       "Europe                    int64\n",
       "United States             int64\n",
       "Canada                    int64\n",
       "Product                  object\n",
       "Year                      int64\n",
       "Month                     int64\n",
       "Day                       int64\n",
       "date             datetime64[ns]\n",
       "dtype: object"
      ]
     },
     "metadata": {},
     "execution_count": 37
    }
   ],
   "source": [
    "### Date format is properly loaded\n",
    "df.dtypes"
   ]
  },
  {
   "cell_type": "code",
   "execution_count": 38,
   "metadata": {},
   "outputs": [],
   "source": [
    "### Convert wide to long with date\n",
    "df_rev_long = df.melt(id_vars=[\"Product\", \"date\"], value_vars=[\"Europe\", \"United States\", \"Canada\"], var_name=\"Region\", value_name=\"Revenue\")"
   ]
  },
  {
   "cell_type": "code",
   "execution_count": 48,
   "metadata": {},
   "outputs": [
    {
     "output_type": "execute_result",
     "data": {
      "text/plain": [
       "2013    24\n",
       "2019    24\n",
       "2006    24\n",
       "2000    21\n",
       "2016    21\n",
       "2002    21\n",
       "2018    18\n",
       "2011    18\n",
       "2015    15\n",
       "2014    15\n",
       "2003    15\n",
       "2005    12\n",
       "2017    12\n",
       "2001    12\n",
       "2009    12\n",
       "2010     9\n",
       "2008     9\n",
       "2004     6\n",
       "2020     6\n",
       "2007     3\n",
       "2012     3\n",
       "Name: date, dtype: int64"
      ]
     },
     "metadata": {},
     "execution_count": 48
    }
   ],
   "source": [
    "df_rev_long.date.dt.year.value_counts()"
   ]
  },
  {
   "cell_type": "code",
   "execution_count": 46,
   "metadata": {},
   "outputs": [
    {
     "output_type": "execute_result",
     "data": {
      "text/plain": [
       "2019    24\n",
       "2020     6\n",
       "Name: date, dtype: int64"
      ]
     },
     "metadata": {},
     "execution_count": 46
    }
   ],
   "source": [
    "### Filter by date \n",
    "df_rev_long[df_rev_long['date'] >= pd.to_datetime(\"2019-01-01\")].date.dt.year.value_counts()"
   ]
  }
 ]
}