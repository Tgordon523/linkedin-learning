{
 "metadata": {
  "language_info": {
   "codemirror_mode": {
    "name": "ipython",
    "version": 3
   },
   "file_extension": ".py",
   "mimetype": "text/x-python",
   "name": "python",
   "nbconvert_exporter": "python",
   "pygments_lexer": "ipython3",
   "version": "3.7.2"
  },
  "orig_nbformat": 2,
  "kernelspec": {
   "name": "python3",
   "display_name": "Python 3",
   "language": "python"
  }
 },
 "nbformat": 4,
 "nbformat_minor": 2,
 "cells": [
  {
   "cell_type": "code",
   "execution_count": 1,
   "metadata": {},
   "outputs": [],
   "source": [
    "import pandas as pd \n",
    "import numpy as np"
   ]
  },
  {
   "cell_type": "code",
   "execution_count": 23,
   "metadata": {},
   "outputs": [],
   "source": [
    "def drop_col(df:pd.DataFrame, col:str):\n",
    "    return df.drop(col, axis=1)\n",
    "\n",
    "def get_data():\n",
    "    ### Make up regional revenue data \n",
    "    df =pd.DataFrame({\"Europe\":np.random.randint(100, 80000, 100),\n",
    "                  \"United States\":np.random.randint(100, 100000, 100),\n",
    "                  \"Canada\":np.random.randint(200, 25000, 100),\n",
    "                  \"Product\":np.random.choice([\"Product1\",\"Product2\"], 100)})\n",
    "    return df"
   ]
  },
  {
   "cell_type": "code",
   "execution_count": 33,
   "metadata": {},
   "outputs": [],
   "source": [
    "df_rev_wide = (\n",
    "    ### Create data\n",
    "    get_data()\n",
    "    ### Drop column\n",
    "    .pipe(drop_col, \"Canada\")\n",
    "    ### Wide to long transformation\n",
    "    .melt(id_vars=[\"Product\"], value_vars=[\"Europe\", \"United States\"], var_name=\"Region\", value_name=\"Revenue\")\n",
    "    ### Summarize product revenue across regions\n",
    "    .pivot_table(index=\"Product\", columns=\"Region\", values=\"Revenue\", aggfunc=[\"sum\", \"mean\"]).reset_index()\n",
    ")"
   ]
  },
  {
   "cell_type": "code",
   "execution_count": 34,
   "metadata": {},
   "outputs": [
    {
     "output_type": "execute_result",
     "data": {
      "text/plain": [
       "         Product      sum                        mean              \n",
       "Region             Europe United States        Europe United States\n",
       "0       Product1  1869120       2184657  40633.043478  47492.543478\n",
       "1       Product2  2256025       2525566  41778.240741  46769.740741"
      ],
      "text/html": "<div>\n<style scoped>\n    .dataframe tbody tr th:only-of-type {\n        vertical-align: middle;\n    }\n\n    .dataframe tbody tr th {\n        vertical-align: top;\n    }\n\n    .dataframe thead tr th {\n        text-align: left;\n    }\n</style>\n<table border=\"1\" class=\"dataframe\">\n  <thead>\n    <tr>\n      <th></th>\n      <th>Product</th>\n      <th colspan=\"2\" halign=\"left\">sum</th>\n      <th colspan=\"2\" halign=\"left\">mean</th>\n    </tr>\n    <tr>\n      <th>Region</th>\n      <th></th>\n      <th>Europe</th>\n      <th>United States</th>\n      <th>Europe</th>\n      <th>United States</th>\n    </tr>\n  </thead>\n  <tbody>\n    <tr>\n      <th>0</th>\n      <td>Product1</td>\n      <td>1869120</td>\n      <td>2184657</td>\n      <td>40633.043478</td>\n      <td>47492.543478</td>\n    </tr>\n    <tr>\n      <th>1</th>\n      <td>Product2</td>\n      <td>2256025</td>\n      <td>2525566</td>\n      <td>41778.240741</td>\n      <td>46769.740741</td>\n    </tr>\n  </tbody>\n</table>\n</div>"
     },
     "metadata": {},
     "execution_count": 34
    }
   ],
   "source": [
    "df_rev_wide"
   ]
  }
 ]
}