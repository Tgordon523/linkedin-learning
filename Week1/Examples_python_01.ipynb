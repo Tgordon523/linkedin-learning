{
 "metadata": {
  "language_info": {
   "codemirror_mode": {
    "name": "ipython",
    "version": 3
   },
   "file_extension": ".py",
   "mimetype": "text/x-python",
   "name": "python",
   "nbconvert_exporter": "python",
   "pygments_lexer": "ipython3",
   "version": "3.7.2-candidate"
  },
  "orig_nbformat": 2,
  "kernelspec": {
   "name": "python3",
   "display_name": "Python 3",
   "language": "python"
  }
 },
 "nbformat": 4,
 "nbformat_minor": 2,
 "cells": [
  {
   "cell_type": "code",
   "execution_count": 2,
   "metadata": {},
   "outputs": [],
   "source": [
    "import pandas as pd \n",
    "import numpy as np"
   ]
  },
  {
   "cell_type": "code",
   "execution_count": 3,
   "metadata": {},
   "outputs": [],
   "source": [
    "### Make up regional revenue data \n",
    "df =pd.DataFrame({\"Europe\":np.random.randint(100, 80000, 100),\n",
    "                  \"United States\":np.random.randint(100, 100000, 100),\n",
    "                  \"Canada\":np.random.randint(200, 25000, 100),\n",
    "                  \"Product\":np.random.choice([\"Product1\",\"Product2\"], 100)})"
   ]
  },
  {
   "cell_type": "code",
   "execution_count": 8,
   "metadata": {},
   "outputs": [],
   "source": [
    "### Melt wide dataframe to long format \n",
    "df_rev_long = df.melt(id_vars=[\"Product\"], value_vars=[\"Europe\", \"United States\", \"Canada\"], var_name=\"Region\", value_name=\"Revenue\")"
   ]
  },
  {
   "cell_type": "code",
   "execution_count": 11,
   "metadata": {},
   "outputs": [
    {
     "output_type": "execute_result",
     "data": {
      "text/plain": [
       "    Product  Region  Revenue\n",
       "0  Product2  Europe    79157\n",
       "1  Product2  Europe    60612\n",
       "2  Product1  Europe    36405\n",
       "3  Product1  Europe    42648\n",
       "4  Product1  Europe    76950"
      ],
      "text/html": "<div>\n<style scoped>\n    .dataframe tbody tr th:only-of-type {\n        vertical-align: middle;\n    }\n\n    .dataframe tbody tr th {\n        vertical-align: top;\n    }\n\n    .dataframe thead th {\n        text-align: right;\n    }\n</style>\n<table border=\"1\" class=\"dataframe\">\n  <thead>\n    <tr style=\"text-align: right;\">\n      <th></th>\n      <th>Product</th>\n      <th>Region</th>\n      <th>Revenue</th>\n    </tr>\n  </thead>\n  <tbody>\n    <tr>\n      <th>0</th>\n      <td>Product2</td>\n      <td>Europe</td>\n      <td>79157</td>\n    </tr>\n    <tr>\n      <th>1</th>\n      <td>Product2</td>\n      <td>Europe</td>\n      <td>60612</td>\n    </tr>\n    <tr>\n      <th>2</th>\n      <td>Product1</td>\n      <td>Europe</td>\n      <td>36405</td>\n    </tr>\n    <tr>\n      <th>3</th>\n      <td>Product1</td>\n      <td>Europe</td>\n      <td>42648</td>\n    </tr>\n    <tr>\n      <th>4</th>\n      <td>Product1</td>\n      <td>Europe</td>\n      <td>76950</td>\n    </tr>\n  </tbody>\n</table>\n</div>"
     },
     "metadata": {},
     "execution_count": 11
    }
   ],
   "source": [
    "df_rev_long.head()"
   ]
  },
  {
   "cell_type": "code",
   "execution_count": 12,
   "metadata": {},
   "outputs": [],
   "source": [
    "### Pivot table to calculate regional revenue sum and mean over time. Return to wide format for reporting.\n",
    "df_rev_wide_agg = df_rev_long.pivot_table(index=\"Product\", columns=\"Region\", values=\"Revenue\", aggfunc=[\"sum\", \"mean\"]).reset_index()"
   ]
  },
  {
   "cell_type": "code",
   "execution_count": 13,
   "metadata": {},
   "outputs": [
    {
     "output_type": "execute_result",
     "data": {
      "text/plain": [
       "         Product     sum                                 mean                \\\n",
       "Region            Canada   Europe United States        Canada        Europe   \n",
       "0       Product1  576503  1866941       2405520  12532.673913  40585.673913   \n",
       "1       Product2  679578  2434462       2328331  12584.777778  45082.629630   \n",
       "\n",
       "                      \n",
       "Region United States  \n",
       "0       52293.913043  \n",
       "1       43117.240741  "
      ],
      "text/html": "<div>\n<style scoped>\n    .dataframe tbody tr th:only-of-type {\n        vertical-align: middle;\n    }\n\n    .dataframe tbody tr th {\n        vertical-align: top;\n    }\n\n    .dataframe thead tr th {\n        text-align: left;\n    }\n</style>\n<table border=\"1\" class=\"dataframe\">\n  <thead>\n    <tr>\n      <th></th>\n      <th>Product</th>\n      <th colspan=\"3\" halign=\"left\">sum</th>\n      <th colspan=\"3\" halign=\"left\">mean</th>\n    </tr>\n    <tr>\n      <th>Region</th>\n      <th></th>\n      <th>Canada</th>\n      <th>Europe</th>\n      <th>United States</th>\n      <th>Canada</th>\n      <th>Europe</th>\n      <th>United States</th>\n    </tr>\n  </thead>\n  <tbody>\n    <tr>\n      <th>0</th>\n      <td>Product1</td>\n      <td>576503</td>\n      <td>1866941</td>\n      <td>2405520</td>\n      <td>12532.673913</td>\n      <td>40585.673913</td>\n      <td>52293.913043</td>\n    </tr>\n    <tr>\n      <th>1</th>\n      <td>Product2</td>\n      <td>679578</td>\n      <td>2434462</td>\n      <td>2328331</td>\n      <td>12584.777778</td>\n      <td>45082.629630</td>\n      <td>43117.240741</td>\n    </tr>\n  </tbody>\n</table>\n</div>"
     },
     "metadata": {},
     "execution_count": 13
    }
   ],
   "source": [
    "df_rev_wide_agg"
   ]
  }
 ]
}