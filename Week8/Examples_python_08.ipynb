{
 "metadata": {
  "language_info": {
   "codemirror_mode": {
    "name": "ipython",
    "version": 3
   },
   "file_extension": ".py",
   "mimetype": "text/x-python",
   "name": "python",
   "nbconvert_exporter": "python",
   "pygments_lexer": "ipython3",
   "version": "3.7.9"
  },
  "orig_nbformat": 2,
  "kernelspec": {
   "name": "python379jvsc74a57bd055f2aa2d19a9454b6d143cc16b312d5d5489e043389e04c68920124f0c90edc6",
   "display_name": "Python 3.7.9 64-bit"
  },
  "metadata": {
   "interpreter": {
    "hash": "55f2aa2d19a9454b6d143cc16b312d5d5489e043389e04c68920124f0c90edc6"
   }
  }
 },
 "nbformat": 4,
 "nbformat_minor": 2,
 "cells": [
  {
   "cell_type": "code",
   "execution_count": 2,
   "metadata": {},
   "outputs": [],
   "source": [
    "### Load in libraries\n",
    "import pandas as pd \n",
    "import numpy as np\n",
    "from pathlib import Path ### base package for file management"
   ]
  },
  {
   "cell_type": "code",
   "execution_count": 3,
   "metadata": {},
   "outputs": [],
   "source": [
    "### Parse date with specific date column from previous week data. Specify dayfirst is false\n",
    "df = pd.read_csv(Path(r\"D:\\Users\\Tim\\PyScripts\\linkedin-learning\\Week6\")  / 'test_data.csv', parse_dates=['date'], dayfirst=False)"
   ]
  },
  {
   "cell_type": "code",
   "execution_count": 4,
   "metadata": {},
   "outputs": [],
   "source": [
    "### Convert wide to long with date\n",
    "df_rev_long = df.melt(id_vars=[\"Product\", \"date\"], value_vars=[\"Europe\", \"United States\", \"Canada\"], var_name=\"Region\", value_name=\"Revenue\")"
   ]
  },
  {
   "cell_type": "code",
   "execution_count": 6,
   "metadata": {},
   "outputs": [
    {
     "output_type": "error",
     "ename": "KeyError",
     "evalue": "\"None of ['date'] are in the columns\"",
     "traceback": [
      "\u001b[1;31m---------------------------------------------------------------------------\u001b[0m",
      "\u001b[1;31mKeyError\u001b[0m                                  Traceback (most recent call last)",
      "\u001b[1;32m<ipython-input-6-0cf78082b190>\u001b[0m in \u001b[0;36m<module>\u001b[1;34m\u001b[0m\n\u001b[0;32m      1\u001b[0m \u001b[1;31m## set date to resample\u001b[0m\u001b[1;33m\u001b[0m\u001b[1;33m\u001b[0m\u001b[1;33m\u001b[0m\u001b[0m\n\u001b[1;32m----> 2\u001b[1;33m \u001b[0mdf_rev_long\u001b[0m \u001b[1;33m=\u001b[0m \u001b[0mdf_rev_long\u001b[0m\u001b[1;33m.\u001b[0m\u001b[0mset_index\u001b[0m\u001b[1;33m(\u001b[0m\u001b[1;34m\"date\"\u001b[0m\u001b[1;33m)\u001b[0m\u001b[1;33m\u001b[0m\u001b[1;33m\u001b[0m\u001b[0m\n\u001b[0m",
      "\u001b[1;32mD:\\Users\\Tim\\AppData\\Local\\Programs\\Python\\Python37\\lib\\site-packages\\pandas\\core\\frame.py\u001b[0m in \u001b[0;36mset_index\u001b[1;34m(self, keys, drop, append, inplace, verify_integrity)\u001b[0m\n\u001b[0;32m   4553\u001b[0m \u001b[1;33m\u001b[0m\u001b[0m\n\u001b[0;32m   4554\u001b[0m         \u001b[1;32mif\u001b[0m \u001b[0mmissing\u001b[0m\u001b[1;33m:\u001b[0m\u001b[1;33m\u001b[0m\u001b[1;33m\u001b[0m\u001b[0m\n\u001b[1;32m-> 4555\u001b[1;33m             \u001b[1;32mraise\u001b[0m \u001b[0mKeyError\u001b[0m\u001b[1;33m(\u001b[0m\u001b[1;34mf\"None of {missing} are in the columns\"\u001b[0m\u001b[1;33m)\u001b[0m\u001b[1;33m\u001b[0m\u001b[1;33m\u001b[0m\u001b[0m\n\u001b[0m\u001b[0;32m   4556\u001b[0m \u001b[1;33m\u001b[0m\u001b[0m\n\u001b[0;32m   4557\u001b[0m         \u001b[1;32mif\u001b[0m \u001b[0minplace\u001b[0m\u001b[1;33m:\u001b[0m\u001b[1;33m\u001b[0m\u001b[1;33m\u001b[0m\u001b[0m\n",
      "\u001b[1;31mKeyError\u001b[0m: \"None of ['date'] are in the columns\""
     ]
    }
   ],
   "source": [
    "## set date to resample\n",
    "df_rev_long = df_rev_long.set_index(\"date\") "
   ]
  },
  {
   "cell_type": "code",
   "execution_count": 8,
   "metadata": {},
   "outputs": [
    {
     "output_type": "execute_result",
     "data": {
      "text/plain": [
       "                 Revenue\n",
       "date                    \n",
       "2000-12-31  38912.571429\n",
       "2001-12-31  44676.666667\n",
       "2002-12-31  35366.428571\n",
       "2003-12-31  26183.200000\n",
       "2004-12-31  49401.166667\n",
       "2005-12-31  44581.166667\n",
       "2006-12-31  33222.791667\n",
       "2007-12-31  38619.000000\n",
       "2008-12-31  25536.222222\n",
       "2009-12-31  32618.166667\n",
       "2010-12-31  24169.111111\n",
       "2011-12-31  29062.055556\n",
       "2012-12-31   8268.333333\n",
       "2013-12-31  27681.875000\n",
       "2014-12-31  32201.133333\n",
       "2015-12-31  32238.533333\n",
       "2016-12-31  31044.428571\n",
       "2017-12-31  40496.833333\n",
       "2018-12-31  28849.833333\n",
       "2019-12-31  34570.708333\n",
       "2020-12-31  44579.500000"
      ],
      "text/html": "<div>\n<style scoped>\n    .dataframe tbody tr th:only-of-type {\n        vertical-align: middle;\n    }\n\n    .dataframe tbody tr th {\n        vertical-align: top;\n    }\n\n    .dataframe thead th {\n        text-align: right;\n    }\n</style>\n<table border=\"1\" class=\"dataframe\">\n  <thead>\n    <tr style=\"text-align: right;\">\n      <th></th>\n      <th>Revenue</th>\n    </tr>\n    <tr>\n      <th>date</th>\n      <th></th>\n    </tr>\n  </thead>\n  <tbody>\n    <tr>\n      <th>2000-12-31</th>\n      <td>38912.571429</td>\n    </tr>\n    <tr>\n      <th>2001-12-31</th>\n      <td>44676.666667</td>\n    </tr>\n    <tr>\n      <th>2002-12-31</th>\n      <td>35366.428571</td>\n    </tr>\n    <tr>\n      <th>2003-12-31</th>\n      <td>26183.200000</td>\n    </tr>\n    <tr>\n      <th>2004-12-31</th>\n      <td>49401.166667</td>\n    </tr>\n    <tr>\n      <th>2005-12-31</th>\n      <td>44581.166667</td>\n    </tr>\n    <tr>\n      <th>2006-12-31</th>\n      <td>33222.791667</td>\n    </tr>\n    <tr>\n      <th>2007-12-31</th>\n      <td>38619.000000</td>\n    </tr>\n    <tr>\n      <th>2008-12-31</th>\n      <td>25536.222222</td>\n    </tr>\n    <tr>\n      <th>2009-12-31</th>\n      <td>32618.166667</td>\n    </tr>\n    <tr>\n      <th>2010-12-31</th>\n      <td>24169.111111</td>\n    </tr>\n    <tr>\n      <th>2011-12-31</th>\n      <td>29062.055556</td>\n    </tr>\n    <tr>\n      <th>2012-12-31</th>\n      <td>8268.333333</td>\n    </tr>\n    <tr>\n      <th>2013-12-31</th>\n      <td>27681.875000</td>\n    </tr>\n    <tr>\n      <th>2014-12-31</th>\n      <td>32201.133333</td>\n    </tr>\n    <tr>\n      <th>2015-12-31</th>\n      <td>32238.533333</td>\n    </tr>\n    <tr>\n      <th>2016-12-31</th>\n      <td>31044.428571</td>\n    </tr>\n    <tr>\n      <th>2017-12-31</th>\n      <td>40496.833333</td>\n    </tr>\n    <tr>\n      <th>2018-12-31</th>\n      <td>28849.833333</td>\n    </tr>\n    <tr>\n      <th>2019-12-31</th>\n      <td>34570.708333</td>\n    </tr>\n    <tr>\n      <th>2020-12-31</th>\n      <td>44579.500000</td>\n    </tr>\n  </tbody>\n</table>\n</div>"
     },
     "metadata": {},
     "execution_count": 8
    }
   ],
   "source": [
    "## Resample by calendar year end\n",
    "df_rev_long.resample(\"A\").mean()"
   ]
  },
  {
   "cell_type": "code",
   "execution_count": 13,
   "metadata": {},
   "outputs": [
    {
     "output_type": "execute_result",
     "data": {
      "text/plain": [
       "                 Revenue\n",
       "date                    \n",
       "2000-03-31  29438.666667\n",
       "2000-06-30  42702.133333\n",
       "2001-06-29  47969.555556\n",
       "2001-12-31  34798.000000\n",
       "2002-03-29  37810.166667\n",
       "2002-06-28  25709.166667\n",
       "2002-09-30  40175.444444\n",
       "2003-03-31  27841.166667\n",
       "2003-09-30  25077.888889\n",
       "2004-03-31  41290.666667\n",
       "2004-12-31  57511.666667\n",
       "2005-03-31  49460.666667\n",
       "2005-09-30  42954.666667\n",
       "2006-03-31  24710.833333\n",
       "2006-06-30  34246.000000\n",
       "2006-09-29  37165.666667\n",
       "2006-12-29  39291.333333\n",
       "2007-09-28  38619.000000\n",
       "2008-03-31  34648.000000\n",
       "2008-06-30   7312.666667\n",
       "2009-03-31  35014.333333\n",
       "2009-06-30  17532.000000\n",
       "2009-12-31  38963.166667\n",
       "2010-03-31  20582.833333\n",
       "2010-06-30  31341.666667\n",
       "2011-03-31  26275.222222\n",
       "2011-06-30  31350.666667\n",
       "2011-12-30  32845.333333\n",
       "2012-06-29   8268.333333\n",
       "2013-03-29  21684.500000\n",
       "2013-06-28  28328.416667\n",
       "2013-12-31  32386.166667\n",
       "2014-03-31  23891.000000\n",
       "2014-06-30  17477.666667\n",
       "2014-12-31  47873.000000\n",
       "2015-03-31  12769.333333\n",
       "2015-09-30  26788.333333\n",
       "2015-12-31  47423.333333\n",
       "2016-03-31  30824.466667\n",
       "2016-09-30  48269.000000\n",
       "2016-12-30  14919.666667\n",
       "2017-03-31  35394.666667\n",
       "2017-09-29  36985.333333\n",
       "2017-12-29  54212.666667\n",
       "2018-03-30  26287.444444\n",
       "2018-06-29  37257.666667\n",
       "2018-09-28  30536.333333\n",
       "2018-12-31  26442.666667\n",
       "2019-03-29  28645.666667\n",
       "2019-06-28  39302.916667\n",
       "2019-12-31  30236.111111\n",
       "2020-06-30  44579.500000"
      ],
      "text/html": "<div>\n<style scoped>\n    .dataframe tbody tr th:only-of-type {\n        vertical-align: middle;\n    }\n\n    .dataframe tbody tr th {\n        vertical-align: top;\n    }\n\n    .dataframe thead th {\n        text-align: right;\n    }\n</style>\n<table border=\"1\" class=\"dataframe\">\n  <thead>\n    <tr style=\"text-align: right;\">\n      <th></th>\n      <th>Revenue</th>\n    </tr>\n    <tr>\n      <th>date</th>\n      <th></th>\n    </tr>\n  </thead>\n  <tbody>\n    <tr>\n      <th>2000-03-31</th>\n      <td>29438.666667</td>\n    </tr>\n    <tr>\n      <th>2000-06-30</th>\n      <td>42702.133333</td>\n    </tr>\n    <tr>\n      <th>2001-06-29</th>\n      <td>47969.555556</td>\n    </tr>\n    <tr>\n      <th>2001-12-31</th>\n      <td>34798.000000</td>\n    </tr>\n    <tr>\n      <th>2002-03-29</th>\n      <td>37810.166667</td>\n    </tr>\n    <tr>\n      <th>2002-06-28</th>\n      <td>25709.166667</td>\n    </tr>\n    <tr>\n      <th>2002-09-30</th>\n      <td>40175.444444</td>\n    </tr>\n    <tr>\n      <th>2003-03-31</th>\n      <td>27841.166667</td>\n    </tr>\n    <tr>\n      <th>2003-09-30</th>\n      <td>25077.888889</td>\n    </tr>\n    <tr>\n      <th>2004-03-31</th>\n      <td>41290.666667</td>\n    </tr>\n    <tr>\n      <th>2004-12-31</th>\n      <td>57511.666667</td>\n    </tr>\n    <tr>\n      <th>2005-03-31</th>\n      <td>49460.666667</td>\n    </tr>\n    <tr>\n      <th>2005-09-30</th>\n      <td>42954.666667</td>\n    </tr>\n    <tr>\n      <th>2006-03-31</th>\n      <td>24710.833333</td>\n    </tr>\n    <tr>\n      <th>2006-06-30</th>\n      <td>34246.000000</td>\n    </tr>\n    <tr>\n      <th>2006-09-29</th>\n      <td>37165.666667</td>\n    </tr>\n    <tr>\n      <th>2006-12-29</th>\n      <td>39291.333333</td>\n    </tr>\n    <tr>\n      <th>2007-09-28</th>\n      <td>38619.000000</td>\n    </tr>\n    <tr>\n      <th>2008-03-31</th>\n      <td>34648.000000</td>\n    </tr>\n    <tr>\n      <th>2008-06-30</th>\n      <td>7312.666667</td>\n    </tr>\n    <tr>\n      <th>2009-03-31</th>\n      <td>35014.333333</td>\n    </tr>\n    <tr>\n      <th>2009-06-30</th>\n      <td>17532.000000</td>\n    </tr>\n    <tr>\n      <th>2009-12-31</th>\n      <td>38963.166667</td>\n    </tr>\n    <tr>\n      <th>2010-03-31</th>\n      <td>20582.833333</td>\n    </tr>\n    <tr>\n      <th>2010-06-30</th>\n      <td>31341.666667</td>\n    </tr>\n    <tr>\n      <th>2011-03-31</th>\n      <td>26275.222222</td>\n    </tr>\n    <tr>\n      <th>2011-06-30</th>\n      <td>31350.666667</td>\n    </tr>\n    <tr>\n      <th>2011-12-30</th>\n      <td>32845.333333</td>\n    </tr>\n    <tr>\n      <th>2012-06-29</th>\n      <td>8268.333333</td>\n    </tr>\n    <tr>\n      <th>2013-03-29</th>\n      <td>21684.500000</td>\n    </tr>\n    <tr>\n      <th>2013-06-28</th>\n      <td>28328.416667</td>\n    </tr>\n    <tr>\n      <th>2013-12-31</th>\n      <td>32386.166667</td>\n    </tr>\n    <tr>\n      <th>2014-03-31</th>\n      <td>23891.000000</td>\n    </tr>\n    <tr>\n      <th>2014-06-30</th>\n      <td>17477.666667</td>\n    </tr>\n    <tr>\n      <th>2014-12-31</th>\n      <td>47873.000000</td>\n    </tr>\n    <tr>\n      <th>2015-03-31</th>\n      <td>12769.333333</td>\n    </tr>\n    <tr>\n      <th>2015-09-30</th>\n      <td>26788.333333</td>\n    </tr>\n    <tr>\n      <th>2015-12-31</th>\n      <td>47423.333333</td>\n    </tr>\n    <tr>\n      <th>2016-03-31</th>\n      <td>30824.466667</td>\n    </tr>\n    <tr>\n      <th>2016-09-30</th>\n      <td>48269.000000</td>\n    </tr>\n    <tr>\n      <th>2016-12-30</th>\n      <td>14919.666667</td>\n    </tr>\n    <tr>\n      <th>2017-03-31</th>\n      <td>35394.666667</td>\n    </tr>\n    <tr>\n      <th>2017-09-29</th>\n      <td>36985.333333</td>\n    </tr>\n    <tr>\n      <th>2017-12-29</th>\n      <td>54212.666667</td>\n    </tr>\n    <tr>\n      <th>2018-03-30</th>\n      <td>26287.444444</td>\n    </tr>\n    <tr>\n      <th>2018-06-29</th>\n      <td>37257.666667</td>\n    </tr>\n    <tr>\n      <th>2018-09-28</th>\n      <td>30536.333333</td>\n    </tr>\n    <tr>\n      <th>2018-12-31</th>\n      <td>26442.666667</td>\n    </tr>\n    <tr>\n      <th>2019-03-29</th>\n      <td>28645.666667</td>\n    </tr>\n    <tr>\n      <th>2019-06-28</th>\n      <td>39302.916667</td>\n    </tr>\n    <tr>\n      <th>2019-12-31</th>\n      <td>30236.111111</td>\n    </tr>\n    <tr>\n      <th>2020-06-30</th>\n      <td>44579.500000</td>\n    </tr>\n  </tbody>\n</table>\n</div>"
     },
     "metadata": {},
     "execution_count": 13
    }
   ],
   "source": [
    "## Resample by business quarter end\n",
    "df_rev_long.resample(\"BQ\").mean().dropna()"
   ]
  }
 ]
}