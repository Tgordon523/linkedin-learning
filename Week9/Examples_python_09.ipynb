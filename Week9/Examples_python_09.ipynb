{
 "metadata": {
  "language_info": {
   "codemirror_mode": {
    "name": "ipython",
    "version": 3
   },
   "file_extension": ".py",
   "mimetype": "text/x-python",
   "name": "python",
   "nbconvert_exporter": "python",
   "pygments_lexer": "ipython3",
   "version": "3.7.2"
  },
  "orig_nbformat": 2,
  "kernelspec": {
   "name": "python37264bitfc273146327c4ceca43cfda032baa086",
   "display_name": "Python 3.7.2 64-bit"
  },
  "metadata": {
   "interpreter": {
    "hash": "0595454519cc834983a0e3c98315b0e8d006943b59b4a9f3b2da36bb9aea4abc"
   }
  }
 },
 "nbformat": 4,
 "nbformat_minor": 2,
 "cells": [
  {
   "cell_type": "code",
   "execution_count": 1,
   "metadata": {},
   "outputs": [],
   "source": [
    "### Load in libraries\n",
    "import pandas as pd \n",
    "import numpy as np"
   ]
  },
  {
   "cell_type": "code",
   "execution_count": 9,
   "metadata": {},
   "outputs": [],
   "source": [
    "dates = pd.date_range(start='1/1/2018', end='1/21/2020', freq='MS')\n",
    "points =range(len(dates))"
   ]
  },
  {
   "cell_type": "code",
   "execution_count": 10,
   "metadata": {},
   "outputs": [],
   "source": [
    "test = pd.DataFrame({\"date\":dates,\n",
    "                        \"stage\":points})"
   ]
  },
  {
   "cell_type": "code",
   "execution_count": 12,
   "metadata": {},
   "outputs": [],
   "source": [
    "### dates ordered by stages then shifted \n",
    "test['update_date'] = test['date'].shift(1)\n",
    "test['update_date'] = test['update_date'].fillna(pd.to_datetime('2018-01-01'))"
   ]
  },
  {
   "cell_type": "code",
   "execution_count": 61,
   "metadata": {},
   "outputs": [
    {
     "output_type": "execute_result",
     "data": {
      "text/plain": [
       "        date  stage update_date  TAT (stages)\n",
       "0 2018-01-01      0  2018-01-01             0\n",
       "1 2018-02-01      1  2018-01-01            31\n",
       "2 2018-03-01      2  2018-02-01            28\n",
       "3 2018-04-01      3  2018-03-01            31\n",
       "4 2018-05-01      4  2018-04-01            30"
      ],
      "text/html": "<div>\n<style scoped>\n    .dataframe tbody tr th:only-of-type {\n        vertical-align: middle;\n    }\n\n    .dataframe tbody tr th {\n        vertical-align: top;\n    }\n\n    .dataframe thead th {\n        text-align: right;\n    }\n</style>\n<table border=\"1\" class=\"dataframe\">\n  <thead>\n    <tr style=\"text-align: right;\">\n      <th></th>\n      <th>date</th>\n      <th>stage</th>\n      <th>update_date</th>\n      <th>TAT (stages)</th>\n    </tr>\n  </thead>\n  <tbody>\n    <tr>\n      <th>0</th>\n      <td>2018-01-01</td>\n      <td>0</td>\n      <td>2018-01-01</td>\n      <td>0</td>\n    </tr>\n    <tr>\n      <th>1</th>\n      <td>2018-02-01</td>\n      <td>1</td>\n      <td>2018-01-01</td>\n      <td>31</td>\n    </tr>\n    <tr>\n      <th>2</th>\n      <td>2018-03-01</td>\n      <td>2</td>\n      <td>2018-02-01</td>\n      <td>28</td>\n    </tr>\n    <tr>\n      <th>3</th>\n      <td>2018-04-01</td>\n      <td>3</td>\n      <td>2018-03-01</td>\n      <td>31</td>\n    </tr>\n    <tr>\n      <th>4</th>\n      <td>2018-05-01</td>\n      <td>4</td>\n      <td>2018-04-01</td>\n      <td>30</td>\n    </tr>\n  </tbody>\n</table>\n</div>"
     },
     "metadata": {},
     "execution_count": 61
    }
   ],
   "source": [
    "test.head()"
   ]
  },
  {
   "cell_type": "code",
   "execution_count": 14,
   "metadata": {},
   "outputs": [],
   "source": [
    "test['TAT (stages)'] = (test['date'] - test['update_date']).dt.days"
   ]
  },
  {
   "cell_type": "code",
   "execution_count": 60,
   "metadata": {},
   "outputs": [
    {
     "output_type": "execute_result",
     "data": {
      "text/plain": [
       "        date  stage update_date  TAT (stages)\n",
       "0 2018-01-01      0  2018-01-01             0\n",
       "1 2018-02-01      1  2018-01-01            31\n",
       "2 2018-03-01      2  2018-02-01            28\n",
       "3 2018-04-01      3  2018-03-01            31\n",
       "4 2018-05-01      4  2018-04-01            30"
      ],
      "text/html": "<div>\n<style scoped>\n    .dataframe tbody tr th:only-of-type {\n        vertical-align: middle;\n    }\n\n    .dataframe tbody tr th {\n        vertical-align: top;\n    }\n\n    .dataframe thead th {\n        text-align: right;\n    }\n</style>\n<table border=\"1\" class=\"dataframe\">\n  <thead>\n    <tr style=\"text-align: right;\">\n      <th></th>\n      <th>date</th>\n      <th>stage</th>\n      <th>update_date</th>\n      <th>TAT (stages)</th>\n    </tr>\n  </thead>\n  <tbody>\n    <tr>\n      <th>0</th>\n      <td>2018-01-01</td>\n      <td>0</td>\n      <td>2018-01-01</td>\n      <td>0</td>\n    </tr>\n    <tr>\n      <th>1</th>\n      <td>2018-02-01</td>\n      <td>1</td>\n      <td>2018-01-01</td>\n      <td>31</td>\n    </tr>\n    <tr>\n      <th>2</th>\n      <td>2018-03-01</td>\n      <td>2</td>\n      <td>2018-02-01</td>\n      <td>28</td>\n    </tr>\n    <tr>\n      <th>3</th>\n      <td>2018-04-01</td>\n      <td>3</td>\n      <td>2018-03-01</td>\n      <td>31</td>\n    </tr>\n    <tr>\n      <th>4</th>\n      <td>2018-05-01</td>\n      <td>4</td>\n      <td>2018-04-01</td>\n      <td>30</td>\n    </tr>\n  </tbody>\n</table>\n</div>"
     },
     "metadata": {},
     "execution_count": 60
    }
   ],
   "source": [
    "test.head()"
   ]
  },
  {
   "cell_type": "code",
   "execution_count": 44,
   "metadata": {},
   "outputs": [],
   "source": [
    "### Log entry broken example\n",
    "log = {\"entry\":['start_date', 'end_date']}\n",
    "provided_dates = {\"dates\":['2021-03-31','2021-05-10']}\n",
    "log.update(provided_dates)"
   ]
  },
  {
   "cell_type": "code",
   "execution_count": 47,
   "metadata": {},
   "outputs": [],
   "source": [
    "df_log = pd.DataFrame.from_dict(log)"
   ]
  },
  {
   "cell_type": "code",
   "execution_count": 55,
   "metadata": {},
   "outputs": [],
   "source": [
    "df_log['dates'] = pd.to_datetime(df_log['dates'])\r\n",
    "df_log['start_adj'] = df_log.dates.shift(1) ### Adjust date to compare close vs start\r\n",
    "df_log['TAT'] = (df_log['dates'] - df_log['start_adj']).dt.days ### take differnce in days or any other units"
   ]
  },
  {
   "cell_type": "code",
   "execution_count": 59,
   "metadata": {},
   "outputs": [
    {
     "output_type": "execute_result",
     "data": {
      "text/plain": [
       "        entry      dates  start_adj   TAT\n",
       "0  start_date 2021-03-31        NaT   NaN\n",
       "1    end_date 2021-05-10 2021-03-31  40.0"
      ],
      "text/html": "<div>\n<style scoped>\n    .dataframe tbody tr th:only-of-type {\n        vertical-align: middle;\n    }\n\n    .dataframe tbody tr th {\n        vertical-align: top;\n    }\n\n    .dataframe thead th {\n        text-align: right;\n    }\n</style>\n<table border=\"1\" class=\"dataframe\">\n  <thead>\n    <tr style=\"text-align: right;\">\n      <th></th>\n      <th>entry</th>\n      <th>dates</th>\n      <th>start_adj</th>\n      <th>TAT</th>\n    </tr>\n  </thead>\n  <tbody>\n    <tr>\n      <th>0</th>\n      <td>start_date</td>\n      <td>2021-03-31</td>\n      <td>NaT</td>\n      <td>NaN</td>\n    </tr>\n    <tr>\n      <th>1</th>\n      <td>end_date</td>\n      <td>2021-05-10</td>\n      <td>2021-03-31</td>\n      <td>40.0</td>\n    </tr>\n  </tbody>\n</table>\n</div>"
     },
     "metadata": {},
     "execution_count": 59
    }
   ],
   "source": [
    "df_log"
   ]
  }
 ]
}