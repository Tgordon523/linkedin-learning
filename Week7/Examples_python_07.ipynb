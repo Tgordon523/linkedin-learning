{
 "metadata": {
  "language_info": {
   "codemirror_mode": {
    "name": "ipython",
    "version": 3
   },
   "file_extension": ".py",
   "mimetype": "text/x-python",
   "name": "python",
   "nbconvert_exporter": "python",
   "pygments_lexer": "ipython3",
   "version": "3.7.9"
  },
  "orig_nbformat": 2,
  "kernelspec": {
   "name": "python379jvsc74a57bd055f2aa2d19a9454b6d143cc16b312d5d5489e043389e04c68920124f0c90edc6",
   "display_name": "Python 3.7.9 64-bit"
  },
  "metadata": {
   "interpreter": {
    "hash": "55f2aa2d19a9454b6d143cc16b312d5d5489e043389e04c68920124f0c90edc6"
   }
  }
 },
 "nbformat": 4,
 "nbformat_minor": 2,
 "cells": [
  {
   "cell_type": "code",
   "execution_count": 1,
   "metadata": {},
   "outputs": [],
   "source": [
    "### Load in libraries\n",
    "import pandas as pd \n",
    "import numpy as np\n",
    "from pathlib import Path ### base package for file management\n",
    "import arrow"
   ]
  },
  {
   "cell_type": "code",
   "execution_count": 6,
   "metadata": {},
   "outputs": [],
   "source": [
    "### Parse date with specific date column from previous week data. Specify dayfirst is false\n",
    "df = pd.read_csv(Path(r\"D:\\Users\\Tim\\PyScripts\\linkedin-learning\\Week6\")  / 'test_data.csv', parse_dates=['date'], dayfirst=False)"
   ]
  },
  {
   "cell_type": "code",
   "execution_count": 8,
   "metadata": {},
   "outputs": [],
   "source": [
    "### Convert wide to long with date\n",
    "df_rev_long = df.melt(id_vars=[\"Product\", \"date\"], value_vars=[\"Europe\", \"United States\", \"Canada\"], var_name=\"Region\", value_name=\"Revenue\")"
   ]
  },
  {
   "cell_type": "code",
   "execution_count": 18,
   "metadata": {},
   "outputs": [
    {
     "output_type": "execute_result",
     "data": {
      "text/plain": [
       "2019    24\n",
       "2020     6\n",
       "Name: date, dtype: int64"
      ]
     },
     "metadata": {},
     "execution_count": 18
    }
   ],
   "source": [
    "### Filter by specific date without extra packages\n",
    "df_rev_long[df_rev_long['date'] >= pd.to_datetime(\"2019-01-01\")]['date'].dt.year.value_counts()"
   ]
  },
  {
   "cell_type": "code",
   "execution_count": 22,
   "metadata": {},
   "outputs": [
    {
     "output_type": "execute_result",
     "data": {
      "text/plain": [
       "2020    6\n",
       "2019    3\n",
       "Name: date, dtype: int64"
      ]
     },
     "metadata": {},
     "execution_count": 22
    }
   ],
   "source": [
    "### Filter within specified period using arrow \n",
    "df_rev_long[df_rev_long['date'] >= arrow.utcnow().shift(months=-18).naive]['date'].dt.year.value_counts()"
   ]
  }
 ]
}