{
 "metadata": {
  "language_info": {
   "codemirror_mode": {
    "name": "ipython",
    "version": 3
   },
   "file_extension": ".py",
   "mimetype": "text/x-python",
   "name": "python",
   "nbconvert_exporter": "python",
   "pygments_lexer": "ipython3",
   "version": "3.7.2"
  },
  "orig_nbformat": 2,
  "kernelspec": {
   "name": "python37264bitfc273146327c4ceca43cfda032baa086",
   "display_name": "Python 3.7.2 64-bit"
  },
  "metadata": {
   "interpreter": {
    "hash": "0595454519cc834983a0e3c98315b0e8d006943b59b4a9f3b2da36bb9aea4abc"
   }
  }
 },
 "nbformat": 4,
 "nbformat_minor": 2,
 "cells": [
  {
   "cell_type": "code",
   "execution_count": 52,
   "metadata": {},
   "outputs": [],
   "source": [
    "import pandas as pd \n",
    "import numpy as np"
   ]
  },
  {
   "cell_type": "code",
   "execution_count": 53,
   "metadata": {},
   "outputs": [],
   "source": [
    "def get_data():\n",
    "    ### Make up regional revenue data \n",
    "    df =pd.DataFrame({\"Europe\":np.random.randint(100, 80000, 100),\n",
    "                  \"United States\":np.random.randint(100, 100000, 100),\n",
    "                  \"Canada\":np.random.randint(200, 25000, 100),\n",
    "                  \"Product\":np.random.choice([\"Product1\",\"Product2\"], 100),\n",
    "                  \"Year\": np.random.randint(2000,2021,100),\n",
    "                  \"Month\":np.random.randint(1,12,100)}\n",
    "                  )\n",
    "    return df\n"
   ]
  },
  {
   "cell_type": "code",
   "execution_count": 54,
   "metadata": {},
   "outputs": [],
   "source": [
    "day = np.random.randint(1,28,100)"
   ]
  },
  {
   "cell_type": "code",
   "execution_count": 55,
   "metadata": {},
   "outputs": [],
   "source": [
    "df = get_data()"
   ]
  },
  {
   "cell_type": "code",
   "execution_count": 56,
   "metadata": {},
   "outputs": [],
   "source": [
    "df1 = df.copy(deep=True)"
   ]
  },
  {
   "cell_type": "code",
   "execution_count": 57,
   "metadata": {},
   "outputs": [],
   "source": [
    "df['year-month'] = pd.to_datetime(df['Year'].astype(str) + \"-\" + df['Month'].astype(str) +\"-01\")"
   ]
  },
  {
   "cell_type": "code",
   "execution_count": 58,
   "metadata": {},
   "outputs": [],
   "source": [
    "df1['Day'] = day"
   ]
  },
  {
   "cell_type": "code",
   "execution_count": 59,
   "metadata": {},
   "outputs": [],
   "source": [
    "df1['date'] = pd.to_datetime(df1[['Year', 'Month', 'Day']])"
   ]
  },
  {
   "cell_type": "code",
   "execution_count": 60,
   "metadata": {},
   "outputs": [
    {
     "output_type": "execute_result",
     "data": {
      "text/plain": [
       "    Europe  United States  Canada   Product  Year  Month year-month\n",
       "0    20578          60742   22123  Product2  2000     11 2000-11-01\n",
       "1    30966          90731   19771  Product1  2011      1 2011-01-01\n",
       "2     3384           8980    5206  Product2  2015      6 2015-06-01\n",
       "3    56309          89123   21259  Product2  2000      7 2000-07-01\n",
       "4    15229          42721   13407  Product1  2016      3 2016-03-01\n",
       "..     ...            ...     ...       ...   ...    ...        ...\n",
       "95   24514          67772   19741  Product2  2009      5 2009-05-01\n",
       "96   11465          64678   24667  Product2  2007     11 2007-11-01\n",
       "97   26566           1180   16835  Product2  2017      6 2017-06-01\n",
       "98   79913          24906    1929  Product2  2013     10 2013-10-01\n",
       "99   45831          80472   13508  Product2  2007      8 2007-08-01\n",
       "\n",
       "[100 rows x 7 columns]"
      ],
      "text/html": "<div>\n<style scoped>\n    .dataframe tbody tr th:only-of-type {\n        vertical-align: middle;\n    }\n\n    .dataframe tbody tr th {\n        vertical-align: top;\n    }\n\n    .dataframe thead th {\n        text-align: right;\n    }\n</style>\n<table border=\"1\" class=\"dataframe\">\n  <thead>\n    <tr style=\"text-align: right;\">\n      <th></th>\n      <th>Europe</th>\n      <th>United States</th>\n      <th>Canada</th>\n      <th>Product</th>\n      <th>Year</th>\n      <th>Month</th>\n      <th>year-month</th>\n    </tr>\n  </thead>\n  <tbody>\n    <tr>\n      <th>0</th>\n      <td>20578</td>\n      <td>60742</td>\n      <td>22123</td>\n      <td>Product2</td>\n      <td>2000</td>\n      <td>11</td>\n      <td>2000-11-01</td>\n    </tr>\n    <tr>\n      <th>1</th>\n      <td>30966</td>\n      <td>90731</td>\n      <td>19771</td>\n      <td>Product1</td>\n      <td>2011</td>\n      <td>1</td>\n      <td>2011-01-01</td>\n    </tr>\n    <tr>\n      <th>2</th>\n      <td>3384</td>\n      <td>8980</td>\n      <td>5206</td>\n      <td>Product2</td>\n      <td>2015</td>\n      <td>6</td>\n      <td>2015-06-01</td>\n    </tr>\n    <tr>\n      <th>3</th>\n      <td>56309</td>\n      <td>89123</td>\n      <td>21259</td>\n      <td>Product2</td>\n      <td>2000</td>\n      <td>7</td>\n      <td>2000-07-01</td>\n    </tr>\n    <tr>\n      <th>4</th>\n      <td>15229</td>\n      <td>42721</td>\n      <td>13407</td>\n      <td>Product1</td>\n      <td>2016</td>\n      <td>3</td>\n      <td>2016-03-01</td>\n    </tr>\n    <tr>\n      <th>...</th>\n      <td>...</td>\n      <td>...</td>\n      <td>...</td>\n      <td>...</td>\n      <td>...</td>\n      <td>...</td>\n      <td>...</td>\n    </tr>\n    <tr>\n      <th>95</th>\n      <td>24514</td>\n      <td>67772</td>\n      <td>19741</td>\n      <td>Product2</td>\n      <td>2009</td>\n      <td>5</td>\n      <td>2009-05-01</td>\n    </tr>\n    <tr>\n      <th>96</th>\n      <td>11465</td>\n      <td>64678</td>\n      <td>24667</td>\n      <td>Product2</td>\n      <td>2007</td>\n      <td>11</td>\n      <td>2007-11-01</td>\n    </tr>\n    <tr>\n      <th>97</th>\n      <td>26566</td>\n      <td>1180</td>\n      <td>16835</td>\n      <td>Product2</td>\n      <td>2017</td>\n      <td>6</td>\n      <td>2017-06-01</td>\n    </tr>\n    <tr>\n      <th>98</th>\n      <td>79913</td>\n      <td>24906</td>\n      <td>1929</td>\n      <td>Product2</td>\n      <td>2013</td>\n      <td>10</td>\n      <td>2013-10-01</td>\n    </tr>\n    <tr>\n      <th>99</th>\n      <td>45831</td>\n      <td>80472</td>\n      <td>13508</td>\n      <td>Product2</td>\n      <td>2007</td>\n      <td>8</td>\n      <td>2007-08-01</td>\n    </tr>\n  </tbody>\n</table>\n<p>100 rows × 7 columns</p>\n</div>"
     },
     "metadata": {},
     "execution_count": 60
    }
   ],
   "source": [
    "df"
   ]
  },
  {
   "cell_type": "code",
   "execution_count": 61,
   "metadata": {},
   "outputs": [
    {
     "output_type": "execute_result",
     "data": {
      "text/plain": [
       "    Europe  United States  Canada   Product  Year  Month  Day       date\n",
       "0    20578          60742   22123  Product2  2000     11    1 2000-11-01\n",
       "1    30966          90731   19771  Product1  2011      1    8 2011-01-08\n",
       "2     3384           8980    5206  Product2  2015      6   17 2015-06-17\n",
       "3    56309          89123   21259  Product2  2000      7    3 2000-07-03\n",
       "4    15229          42721   13407  Product1  2016      3   22 2016-03-22\n",
       "..     ...            ...     ...       ...   ...    ...  ...        ...\n",
       "95   24514          67772   19741  Product2  2009      5   15 2009-05-15\n",
       "96   11465          64678   24667  Product2  2007     11    4 2007-11-04\n",
       "97   26566           1180   16835  Product2  2017      6    4 2017-06-04\n",
       "98   79913          24906    1929  Product2  2013     10   13 2013-10-13\n",
       "99   45831          80472   13508  Product2  2007      8    5 2007-08-05\n",
       "\n",
       "[100 rows x 8 columns]"
      ],
      "text/html": "<div>\n<style scoped>\n    .dataframe tbody tr th:only-of-type {\n        vertical-align: middle;\n    }\n\n    .dataframe tbody tr th {\n        vertical-align: top;\n    }\n\n    .dataframe thead th {\n        text-align: right;\n    }\n</style>\n<table border=\"1\" class=\"dataframe\">\n  <thead>\n    <tr style=\"text-align: right;\">\n      <th></th>\n      <th>Europe</th>\n      <th>United States</th>\n      <th>Canada</th>\n      <th>Product</th>\n      <th>Year</th>\n      <th>Month</th>\n      <th>Day</th>\n      <th>date</th>\n    </tr>\n  </thead>\n  <tbody>\n    <tr>\n      <th>0</th>\n      <td>20578</td>\n      <td>60742</td>\n      <td>22123</td>\n      <td>Product2</td>\n      <td>2000</td>\n      <td>11</td>\n      <td>1</td>\n      <td>2000-11-01</td>\n    </tr>\n    <tr>\n      <th>1</th>\n      <td>30966</td>\n      <td>90731</td>\n      <td>19771</td>\n      <td>Product1</td>\n      <td>2011</td>\n      <td>1</td>\n      <td>8</td>\n      <td>2011-01-08</td>\n    </tr>\n    <tr>\n      <th>2</th>\n      <td>3384</td>\n      <td>8980</td>\n      <td>5206</td>\n      <td>Product2</td>\n      <td>2015</td>\n      <td>6</td>\n      <td>17</td>\n      <td>2015-06-17</td>\n    </tr>\n    <tr>\n      <th>3</th>\n      <td>56309</td>\n      <td>89123</td>\n      <td>21259</td>\n      <td>Product2</td>\n      <td>2000</td>\n      <td>7</td>\n      <td>3</td>\n      <td>2000-07-03</td>\n    </tr>\n    <tr>\n      <th>4</th>\n      <td>15229</td>\n      <td>42721</td>\n      <td>13407</td>\n      <td>Product1</td>\n      <td>2016</td>\n      <td>3</td>\n      <td>22</td>\n      <td>2016-03-22</td>\n    </tr>\n    <tr>\n      <th>...</th>\n      <td>...</td>\n      <td>...</td>\n      <td>...</td>\n      <td>...</td>\n      <td>...</td>\n      <td>...</td>\n      <td>...</td>\n      <td>...</td>\n    </tr>\n    <tr>\n      <th>95</th>\n      <td>24514</td>\n      <td>67772</td>\n      <td>19741</td>\n      <td>Product2</td>\n      <td>2009</td>\n      <td>5</td>\n      <td>15</td>\n      <td>2009-05-15</td>\n    </tr>\n    <tr>\n      <th>96</th>\n      <td>11465</td>\n      <td>64678</td>\n      <td>24667</td>\n      <td>Product2</td>\n      <td>2007</td>\n      <td>11</td>\n      <td>4</td>\n      <td>2007-11-04</td>\n    </tr>\n    <tr>\n      <th>97</th>\n      <td>26566</td>\n      <td>1180</td>\n      <td>16835</td>\n      <td>Product2</td>\n      <td>2017</td>\n      <td>6</td>\n      <td>4</td>\n      <td>2017-06-04</td>\n    </tr>\n    <tr>\n      <th>98</th>\n      <td>79913</td>\n      <td>24906</td>\n      <td>1929</td>\n      <td>Product2</td>\n      <td>2013</td>\n      <td>10</td>\n      <td>13</td>\n      <td>2013-10-13</td>\n    </tr>\n    <tr>\n      <th>99</th>\n      <td>45831</td>\n      <td>80472</td>\n      <td>13508</td>\n      <td>Product2</td>\n      <td>2007</td>\n      <td>8</td>\n      <td>5</td>\n      <td>2007-08-05</td>\n    </tr>\n  </tbody>\n</table>\n<p>100 rows × 8 columns</p>\n</div>"
     },
     "metadata": {},
     "execution_count": 61
    }
   ],
   "source": [
    "df1"
   ]
  }
 ]
}