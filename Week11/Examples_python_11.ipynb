{
 "metadata": {
  "language_info": {
   "codemirror_mode": {
    "name": "ipython",
    "version": 3
   },
   "file_extension": ".py",
   "mimetype": "text/x-python",
   "name": "python",
   "nbconvert_exporter": "python",
   "pygments_lexer": "ipython3",
   "version": "3.7.9"
  },
  "orig_nbformat": 2,
  "kernelspec": {
   "name": "python379jvsc74a57bd055f2aa2d19a9454b6d143cc16b312d5d5489e043389e04c68920124f0c90edc6",
   "display_name": "Python 3.7.9 64-bit"
  },
  "metadata": {
   "interpreter": {
    "hash": "55f2aa2d19a9454b6d143cc16b312d5d5489e043389e04c68920124f0c90edc6"
   }
  }
 },
 "nbformat": 4,
 "nbformat_minor": 2,
 "cells": [
  {
   "cell_type": "code",
   "execution_count": 1,
   "metadata": {},
   "outputs": [
    {
     "output_type": "error",
     "ename": "ModuleNotFoundError",
     "evalue": "No module named 'faker'",
     "traceback": [
      "\u001b[1;31m---------------------------------------------------------------------------\u001b[0m",
      "\u001b[1;31mModuleNotFoundError\u001b[0m                       Traceback (most recent call last)",
      "\u001b[1;32m<ipython-input-1-1349b732469b>\u001b[0m in \u001b[0;36m<module>\u001b[1;34m\u001b[0m\n\u001b[0;32m      3\u001b[0m \u001b[1;32mimport\u001b[0m \u001b[0mnumpy\u001b[0m \u001b[1;32mas\u001b[0m \u001b[0mnp\u001b[0m\u001b[1;33m\u001b[0m\u001b[1;33m\u001b[0m\u001b[0m\n\u001b[0;32m      4\u001b[0m \u001b[1;32mimport\u001b[0m \u001b[0mdatetime\u001b[0m \u001b[1;32mas\u001b[0m \u001b[0mdt\u001b[0m\u001b[1;33m\u001b[0m\u001b[1;33m\u001b[0m\u001b[0m\n\u001b[1;32m----> 5\u001b[1;33m \u001b[1;32mfrom\u001b[0m \u001b[0mfaker\u001b[0m \u001b[1;32mimport\u001b[0m \u001b[0mFaker\u001b[0m\u001b[1;33m\u001b[0m\u001b[1;33m\u001b[0m\u001b[0m\n\u001b[0m",
      "\u001b[1;31mModuleNotFoundError\u001b[0m: No module named 'faker'"
     ]
    }
   ],
   "source": [
    "### Load in libraries\n",
    "import pandas as pd \n",
    "import numpy as np\n",
    "import datetime as dt\n",
    "from faker import Faker"
   ]
  },
  {
   "cell_type": "code",
   "execution_count": 69,
   "metadata": {},
   "outputs": [],
   "source": [
    "### Makeup data points\n",
    "times = pd.date_range(\"2021-01-01\", periods=200, freq=\"D\")\n",
    "time = pd.DataFrame(times, columns=[\"Timestamp\"])\n",
    "time = time.sample(frac=1).reset_index(drop=True)\n",
    "\n",
    "### Makeup clients\n",
    "fake = Faker()\n",
    "persons = []\n",
    "for _ in range(20):\n",
    "  #print(fake.name())\n",
    "  persons.append(fake.name())"
   ]
  },
  {
   "cell_type": "code",
   "execution_count": 71,
   "metadata": {},
   "outputs": [],
   "source": [
    "#### Generating fake data\n",
    "df = pd.DataFrame(persons, columns=[\"Client\"])\n",
    "df = pd.DataFrame(df[\"Client\"].repeat(10)).reset_index(drop=True)\n",
    "df1 = df.join(time)\n",
    "df1[\"log\"] = df1[\"Client\"].astype(str) +  \"///appointment on///\" + df1[\"Timestamp\"].dt.strftime(\"%Y-%m-%d\") "
   ]
  },
  {
   "cell_type": "code",
   "execution_count": 82,
   "metadata": {},
   "outputs": [
    {
     "output_type": "execute_result",
     "data": {
      "text/plain": [
       "0      Brianna Dawson///appointment on///2021-03-31\n",
       "1      Brianna Dawson///appointment on///2021-04-05\n",
       "2      Brianna Dawson///appointment on///2021-02-16\n",
       "3      Brianna Dawson///appointment on///2021-01-21\n",
       "4      Brianna Dawson///appointment on///2021-05-18\n",
       "                           ...                     \n",
       "195     Brian Spencer///appointment on///2021-01-20\n",
       "196     Brian Spencer///appointment on///2021-03-18\n",
       "197     Brian Spencer///appointment on///2021-07-10\n",
       "198     Brian Spencer///appointment on///2021-04-07\n",
       "199     Brian Spencer///appointment on///2021-05-25\n",
       "Name: log, Length: 200, dtype: object"
      ]
     },
     "metadata": {},
     "execution_count": 82
    }
   ],
   "source": [
    "df1[\"log\"]"
   ]
  },
  {
   "cell_type": "code",
   "execution_count": 95,
   "metadata": {},
   "outputs": [],
   "source": [
    "### Putting it all together with the pipe\n",
    "df2 = (\n",
    "    df1[\"log\"].str.split(\"///\", expand=True)\n",
    "    .rename(columns={0:\"Client\", 2:\"Date\"})\n",
    "    .drop(1, axis=1)\n",
    "    .sort_values(by=[\"Client\", \"Date\"])\n",
    ")"
   ]
  },
  {
   "cell_type": "code",
   "execution_count": 96,
   "metadata": {},
   "outputs": [
    {
     "output_type": "execute_result",
     "data": {
      "text/plain": [
       "             Client        Date\n",
       "104  Andrea Johnson  2021-01-24\n",
       "107  Andrea Johnson  2021-03-17\n",
       "109  Andrea Johnson  2021-03-30\n",
       "100  Andrea Johnson  2021-04-12\n",
       "108  Andrea Johnson  2021-04-24\n",
       "..              ...         ...\n",
       "122  Vickie Pacheco  2021-03-12\n",
       "127  Vickie Pacheco  2021-03-14\n",
       "121  Vickie Pacheco  2021-04-04\n",
       "120  Vickie Pacheco  2021-06-13\n",
       "123  Vickie Pacheco  2021-07-06\n",
       "\n",
       "[200 rows x 2 columns]"
      ],
      "text/html": "<div>\n<style scoped>\n    .dataframe tbody tr th:only-of-type {\n        vertical-align: middle;\n    }\n\n    .dataframe tbody tr th {\n        vertical-align: top;\n    }\n\n    .dataframe thead th {\n        text-align: right;\n    }\n</style>\n<table border=\"1\" class=\"dataframe\">\n  <thead>\n    <tr style=\"text-align: right;\">\n      <th></th>\n      <th>Client</th>\n      <th>Date</th>\n    </tr>\n  </thead>\n  <tbody>\n    <tr>\n      <th>104</th>\n      <td>Andrea Johnson</td>\n      <td>2021-01-24</td>\n    </tr>\n    <tr>\n      <th>107</th>\n      <td>Andrea Johnson</td>\n      <td>2021-03-17</td>\n    </tr>\n    <tr>\n      <th>109</th>\n      <td>Andrea Johnson</td>\n      <td>2021-03-30</td>\n    </tr>\n    <tr>\n      <th>100</th>\n      <td>Andrea Johnson</td>\n      <td>2021-04-12</td>\n    </tr>\n    <tr>\n      <th>108</th>\n      <td>Andrea Johnson</td>\n      <td>2021-04-24</td>\n    </tr>\n    <tr>\n      <th>...</th>\n      <td>...</td>\n      <td>...</td>\n    </tr>\n    <tr>\n      <th>122</th>\n      <td>Vickie Pacheco</td>\n      <td>2021-03-12</td>\n    </tr>\n    <tr>\n      <th>127</th>\n      <td>Vickie Pacheco</td>\n      <td>2021-03-14</td>\n    </tr>\n    <tr>\n      <th>121</th>\n      <td>Vickie Pacheco</td>\n      <td>2021-04-04</td>\n    </tr>\n    <tr>\n      <th>120</th>\n      <td>Vickie Pacheco</td>\n      <td>2021-06-13</td>\n    </tr>\n    <tr>\n      <th>123</th>\n      <td>Vickie Pacheco</td>\n      <td>2021-07-06</td>\n    </tr>\n  </tbody>\n</table>\n<p>200 rows × 2 columns</p>\n</div>"
     },
     "metadata": {},
     "execution_count": 96
    }
   ],
   "source": [
    "df2"
   ]
  }
 ]
}