{
 "metadata": {
  "language_info": {
   "codemirror_mode": {
    "name": "ipython",
    "version": 3
   },
   "file_extension": ".py",
   "mimetype": "text/x-python",
   "name": "python",
   "nbconvert_exporter": "python",
   "pygments_lexer": "ipython3",
   "version": "3.7.2"
  },
  "orig_nbformat": 2,
  "kernelspec": {
   "name": "python3",
   "display_name": "Python 3",
   "language": "python"
  }
 },
 "nbformat": 4,
 "nbformat_minor": 2,
 "cells": [
  {
   "cell_type": "code",
   "execution_count": 1,
   "metadata": {},
   "outputs": [],
   "source": [
    "import pandas as pd \n",
    "import numpy as np"
   ]
  },
  {
   "cell_type": "code",
   "execution_count": 2,
   "metadata": {},
   "outputs": [],
   "source": [
    "def drop_col(df:pd.DataFrame, col:str):\n",
    "    return df.drop(col, axis=1)\n",
    "\n",
    "def get_data():\n",
    "    ### Make up regional revenue data \n",
    "    df =pd.DataFrame({\"Europe\":np.random.randint(100, 80000, 100),\n",
    "                  \"United States\":np.random.randint(100, 100000, 100),\n",
    "                  \"Canada\":np.random.randint(200, 25000, 100),\n",
    "                  \"Product\":np.random.choice([\"Product1\",\"Product2\"], 100)})\n",
    "    return df\n",
    "\n",
    "def highlight_revenue(val):\n",
    "    color = 'green' if val > 2000000 else 'red'\n",
    "    return 'background-color: %s' % color\n",
    "\n"
   ]
  },
  {
   "cell_type": "code",
   "execution_count": 11,
   "metadata": {},
   "outputs": [],
   "source": [
    "df_rev_wide = (\n",
    "    ### Create data\n",
    "    get_data()\n",
    "    ### Wide to long transformation\n",
    "    .melt(id_vars=[\"Product\"], value_vars=[\"Europe\", \"Canada\", \"United States\"], var_name=\"Region\", value_name=\"Revenue\")\n",
    "    ### Summarize product revenue across regions\n",
    "    .pivot_table(index=\"Product\", columns=\"Region\", values=\"Revenue\",aggfunc=sum).reset_index()\n",
    ")\n",
    "rev_columns = df_rev_wide.columns[1:]"
   ]
  },
  {
   "cell_type": "code",
   "execution_count": 13,
   "metadata": {},
   "outputs": [
    {
     "output_type": "execute_result",
     "data": {
      "text/plain": [
       "<pandas.io.formats.style.Styler at 0x1f51e86f6a0>"
      ],
      "text/html": "<style  type=\"text/css\" >\n    #T_6d455ab4_9674_11eb_82d5_8c1645aa98e5row0_col1 {\n            background-color:  red;\n        }    #T_6d455ab4_9674_11eb_82d5_8c1645aa98e5row0_col2 {\n            background-color:  green;\n        }    #T_6d455ab4_9674_11eb_82d5_8c1645aa98e5row0_col3 {\n            background-color:  green;\n        }    #T_6d455ab4_9674_11eb_82d5_8c1645aa98e5row1_col1 {\n            background-color:  red;\n        }    #T_6d455ab4_9674_11eb_82d5_8c1645aa98e5row1_col2 {\n            background-color:  green;\n        }    #T_6d455ab4_9674_11eb_82d5_8c1645aa98e5row1_col3 {\n            background-color:  green;\n        }</style><table id=\"T_6d455ab4_9674_11eb_82d5_8c1645aa98e5\" ><thead>    <tr>        <th class=\"index_name level0\" >Region</th>        <th class=\"col_heading level0 col0\" >Product</th>        <th class=\"col_heading level0 col1\" >Canada</th>        <th class=\"col_heading level0 col2\" >Europe</th>        <th class=\"col_heading level0 col3\" >United States</th>    </tr></thead><tbody>\n                <tr>\n                        <th id=\"T_6d455ab4_9674_11eb_82d5_8c1645aa98e5level0_row0\" class=\"row_heading level0 row0\" >0</th>\n                        <td id=\"T_6d455ab4_9674_11eb_82d5_8c1645aa98e5row0_col0\" class=\"data row0 col0\" >Product1</td>\n                        <td id=\"T_6d455ab4_9674_11eb_82d5_8c1645aa98e5row0_col1\" class=\"data row0 col1\" >621703</td>\n                        <td id=\"T_6d455ab4_9674_11eb_82d5_8c1645aa98e5row0_col2\" class=\"data row0 col2\" >2070283</td>\n                        <td id=\"T_6d455ab4_9674_11eb_82d5_8c1645aa98e5row0_col3\" class=\"data row0 col3\" >2547357</td>\n            </tr>\n            <tr>\n                        <th id=\"T_6d455ab4_9674_11eb_82d5_8c1645aa98e5level0_row1\" class=\"row_heading level0 row1\" >1</th>\n                        <td id=\"T_6d455ab4_9674_11eb_82d5_8c1645aa98e5row1_col0\" class=\"data row1 col0\" >Product2</td>\n                        <td id=\"T_6d455ab4_9674_11eb_82d5_8c1645aa98e5row1_col1\" class=\"data row1 col1\" >649560</td>\n                        <td id=\"T_6d455ab4_9674_11eb_82d5_8c1645aa98e5row1_col2\" class=\"data row1 col2\" >2174638</td>\n                        <td id=\"T_6d455ab4_9674_11eb_82d5_8c1645aa98e5row1_col3\" class=\"data row1 col3\" >2188161</td>\n            </tr>\n    </tbody></table>"
     },
     "metadata": {},
     "execution_count": 13
    }
   ],
   "source": [
    "df_rev_wide.style.applymap(highlight_revenue, subset=rev_columns)"
   ]
  },
  {
   "cell_type": "code",
   "execution_count": 8,
   "metadata": {},
   "outputs": [],
   "source": [
    "df_rev_wide.iloc[0,2]= np.nan"
   ]
  },
  {
   "cell_type": "code",
   "execution_count": 10,
   "metadata": {},
   "outputs": [
    {
     "output_type": "execute_result",
     "data": {
      "text/plain": [
       "<pandas.io.formats.style.Styler at 0x1f51e86fc18>"
      ],
      "text/html": "<style  type=\"text/css\" >\n    #T_4a415428_9674_11eb_a0f4_8c1645aa98e5row0_col2 {\n            background-color:  red;\n        }</style><table id=\"T_4a415428_9674_11eb_a0f4_8c1645aa98e5\" ><thead>    <tr>        <th class=\"index_name level0\" >Region</th>        <th class=\"col_heading level0 col0\" >Product</th>        <th class=\"col_heading level0 col1\" >Canada</th>        <th class=\"col_heading level0 col2\" >Europe</th>        <th class=\"col_heading level0 col3\" >United States</th>    </tr></thead><tbody>\n                <tr>\n                        <th id=\"T_4a415428_9674_11eb_a0f4_8c1645aa98e5level0_row0\" class=\"row_heading level0 row0\" >0</th>\n                        <td id=\"T_4a415428_9674_11eb_a0f4_8c1645aa98e5row0_col0\" class=\"data row0 col0\" >Product1</td>\n                        <td id=\"T_4a415428_9674_11eb_a0f4_8c1645aa98e5row0_col1\" class=\"data row0 col1\" >572250</td>\n                        <td id=\"T_4a415428_9674_11eb_a0f4_8c1645aa98e5row0_col2\" class=\"data row0 col2\" >nan</td>\n                        <td id=\"T_4a415428_9674_11eb_a0f4_8c1645aa98e5row0_col3\" class=\"data row0 col3\" >2256455</td>\n            </tr>\n            <tr>\n                        <th id=\"T_4a415428_9674_11eb_a0f4_8c1645aa98e5level0_row1\" class=\"row_heading level0 row1\" >1</th>\n                        <td id=\"T_4a415428_9674_11eb_a0f4_8c1645aa98e5row1_col0\" class=\"data row1 col0\" >Product2</td>\n                        <td id=\"T_4a415428_9674_11eb_a0f4_8c1645aa98e5row1_col1\" class=\"data row1 col1\" >708722</td>\n                        <td id=\"T_4a415428_9674_11eb_a0f4_8c1645aa98e5row1_col2\" class=\"data row1 col2\" >1967831.000000</td>\n                        <td id=\"T_4a415428_9674_11eb_a0f4_8c1645aa98e5row1_col3\" class=\"data row1 col3\" >2553415</td>\n            </tr>\n    </tbody></table>"
     },
     "metadata": {},
     "execution_count": 10
    }
   ],
   "source": [
    "df_rev_wide.style.highlight_null()"
   ]
  }
 ]
}