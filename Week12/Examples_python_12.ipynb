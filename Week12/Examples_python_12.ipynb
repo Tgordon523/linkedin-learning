{
 "metadata": {
  "language_info": {
   "codemirror_mode": {
    "name": "ipython",
    "version": 3
   },
   "file_extension": ".py",
   "mimetype": "text/x-python",
   "name": "python",
   "nbconvert_exporter": "python",
   "pygments_lexer": "ipython3",
   "version": "3.7.9"
  },
  "orig_nbformat": 2,
  "kernelspec": {
   "name": "python379jvsc74a57bd055f2aa2d19a9454b6d143cc16b312d5d5489e043389e04c68920124f0c90edc6",
   "display_name": "Python 3.7.9 64-bit"
  },
  "metadata": {
   "interpreter": {
    "hash": "55f2aa2d19a9454b6d143cc16b312d5d5489e043389e04c68920124f0c90edc6"
   }
  }
 },
 "nbformat": 4,
 "nbformat_minor": 2,
 "cells": [
  {
   "cell_type": "code",
   "execution_count": 1,
   "metadata": {},
   "outputs": [],
   "source": [
    "### Load in libraries\n",
    "import pandas as pd \n",
    "import numpy as np\n",
    "from pathlib import Path"
   ]
  },
  {
   "cell_type": "code",
   "execution_count": 3,
   "metadata": {},
   "outputs": [],
   "source": [
    "df = pd.read_excel(Path.cwd()/'test.xlsx', engine=\"openpyxl\")"
   ]
  },
  {
   "cell_type": "code",
   "execution_count": 4,
   "metadata": {},
   "outputs": [
    {
     "output_type": "execute_result",
     "data": {
      "text/plain": [
       "                                                 line\n",
       "0   Lorem ipsum dolor sit amet, consectetur adipis...\n",
       "1   Lorem ipsum dolor sit amet, consectetur adipis...\n",
       "2   Lorem ipsum dolor sit amet, consectetur adipis...\n",
       "3   Lorem ipsum dolor sit amet, consectetur adipis...\n",
       "4   Lorem ipsum dolor sit amet, consectetur adipis...\n",
       "5   Lorem ipsum dolor sit amet, consectetur adipis...\n",
       "6   Lorem ipsum dolor sit amet, AAB2 consectetur a...\n",
       "7   Lorem ipsum dolor sit amet, consectetur adipis...\n",
       "8   Lorem ipsum dolor sit amet, consectetur adipis...\n",
       "9   Lorem ipsum dolor sit amet, consectetur AAAB5 ...\n",
       "10  Lorem ipsum dolor sit amet, consectetur adipis...\n",
       "11  Lorem ipsum dolor sit amet, consectetur adipis...\n",
       "12  Lorem ipsum dolor AAC3 sit amet, consectetur a...\n",
       "13  Lorem ipsum dolor sit amet, consectetur adipis...\n",
       "14  Lorem ipsum dolor sit amet, consectetur adipis..."
      ],
      "text/html": "<div>\n<style scoped>\n    .dataframe tbody tr th:only-of-type {\n        vertical-align: middle;\n    }\n\n    .dataframe tbody tr th {\n        vertical-align: top;\n    }\n\n    .dataframe thead th {\n        text-align: right;\n    }\n</style>\n<table border=\"1\" class=\"dataframe\">\n  <thead>\n    <tr style=\"text-align: right;\">\n      <th></th>\n      <th>line</th>\n    </tr>\n  </thead>\n  <tbody>\n    <tr>\n      <th>0</th>\n      <td>Lorem ipsum dolor sit amet, consectetur adipis...</td>\n    </tr>\n    <tr>\n      <th>1</th>\n      <td>Lorem ipsum dolor sit amet, consectetur adipis...</td>\n    </tr>\n    <tr>\n      <th>2</th>\n      <td>Lorem ipsum dolor sit amet, consectetur adipis...</td>\n    </tr>\n    <tr>\n      <th>3</th>\n      <td>Lorem ipsum dolor sit amet, consectetur adipis...</td>\n    </tr>\n    <tr>\n      <th>4</th>\n      <td>Lorem ipsum dolor sit amet, consectetur adipis...</td>\n    </tr>\n    <tr>\n      <th>5</th>\n      <td>Lorem ipsum dolor sit amet, consectetur adipis...</td>\n    </tr>\n    <tr>\n      <th>6</th>\n      <td>Lorem ipsum dolor sit amet, AAB2 consectetur a...</td>\n    </tr>\n    <tr>\n      <th>7</th>\n      <td>Lorem ipsum dolor sit amet, consectetur adipis...</td>\n    </tr>\n    <tr>\n      <th>8</th>\n      <td>Lorem ipsum dolor sit amet, consectetur adipis...</td>\n    </tr>\n    <tr>\n      <th>9</th>\n      <td>Lorem ipsum dolor sit amet, consectetur AAAB5 ...</td>\n    </tr>\n    <tr>\n      <th>10</th>\n      <td>Lorem ipsum dolor sit amet, consectetur adipis...</td>\n    </tr>\n    <tr>\n      <th>11</th>\n      <td>Lorem ipsum dolor sit amet, consectetur adipis...</td>\n    </tr>\n    <tr>\n      <th>12</th>\n      <td>Lorem ipsum dolor AAC3 sit amet, consectetur a...</td>\n    </tr>\n    <tr>\n      <th>13</th>\n      <td>Lorem ipsum dolor sit amet, consectetur adipis...</td>\n    </tr>\n    <tr>\n      <th>14</th>\n      <td>Lorem ipsum dolor sit amet, consectetur adipis...</td>\n    </tr>\n  </tbody>\n</table>\n</div>"
     },
     "metadata": {},
     "execution_count": 4
    }
   ],
   "source": [
    "df"
   ]
  },
  {
   "cell_type": "code",
   "execution_count": 13,
   "metadata": {},
   "outputs": [],
   "source": [
    "### regex pattern to extract the given code and number from unstructured text\n",
    "pat = r'(?P<Code>[A-Z]{3})(?P<Number>\\d)'\n",
    "### extract from the text and separate\n",
    "df_extract = df.line.str.extract(pat)"
   ]
  }
 ]
}